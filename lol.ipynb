{
 "cells": [
  {
   "cell_type": "code",
   "execution_count": 1,
   "id": "296636cb",
   "metadata": {},
   "outputs": [
    {
     "name": "stdout",
     "output_type": "stream",
     "text": [
      "================================================================================\n",
      "SALT Parameter Analysis\n",
      "Input dim: 768, Output dim: 768\n",
      "r_top: 32, tail_rank: 8\n",
      "--------------------------------------------------------------------------------\n",
      "Total parameters:     591,168\n",
      "Trainable parameters: 576\n",
      "Frozen parameters:    590,592\n",
      "Trainable %:          0.0974%\n",
      "--------------------------------------------------------------------------------\n",
      "Breakdown of trainable tensors:\n",
      "alpha                trainable          32\n",
      "beta                 trainable          32\n",
      "X                    trainable         256\n",
      "Y                    trainable         256\n",
      "base.weight          frozen        589,824\n",
      "base.bias            frozen            768\n",
      "================================================================================\n"
     ]
    }
   ],
   "source": [
    "import torch\n",
    "import torch.nn as nn\n",
    "from models import SALT  # or import directly if it's in the same file\n",
    "from utils.svd_utils import svd_head_tail\n",
    "\n",
    "def analyze_salt_trainables(in_features=768, out_features=768, r_top=32, tail_rank=8):\n",
    "    \"\"\"\n",
    "    Creates a dummy SALT layer with the given dimensions and prints:\n",
    "    - Total parameters\n",
    "    - Trainable parameters\n",
    "    - Non-trainable parameters\n",
    "    - Breakdown by tensor\n",
    "    \"\"\"\n",
    "    # Step 1️⃣: Create a dummy base linear layer (simulating BERT projection)\n",
    "    base = nn.Linear(in_features, out_features, bias=True)\n",
    "    salt = SALT(base, r_top=r_top, tail_rank=tail_rank)\n",
    "\n",
    "    # Step 2️⃣: Count total & trainable parameters\n",
    "    total_params = sum(p.numel() for p in salt.parameters())\n",
    "    trainable_params = sum(p.numel() for p in salt.parameters() if p.requires_grad)\n",
    "    frozen_params = total_params - trainable_params\n",
    "\n",
    "    print(\"=\" * 80)\n",
    "    print(f\"SALT Parameter Analysis\")\n",
    "    print(f\"Input dim: {in_features}, Output dim: {out_features}\")\n",
    "    print(f\"r_top: {r_top}, tail_rank: {tail_rank}\")\n",
    "    print(\"-\" * 80)\n",
    "    print(f\"Total parameters:     {total_params:,}\")\n",
    "    print(f\"Trainable parameters: {trainable_params:,}\")\n",
    "    print(f\"Frozen parameters:    {frozen_params:,}\")\n",
    "    print(f\"Trainable %:          {trainable_params / total_params * 100:.4f}%\")\n",
    "    print(\"-\" * 80)\n",
    "\n",
    "    # Step 3️⃣: Show detailed breakdown\n",
    "    print(\"Breakdown of trainable tensors:\")\n",
    "    for name, param in salt.named_parameters():\n",
    "        print(f\"{name:<20} {'trainable' if param.requires_grad else 'frozen':<10} {param.numel():>10,}\")\n",
    "\n",
    "    print(\"=\" * 80)\n",
    "    return salt\n",
    "\n",
    "\n",
    "# Example usage (simulating BERT dimensions)\n",
    "if __name__ == \"__main__\":\n",
    "    # BERT attention projection (768 x 768)\n",
    "    salt_layer = analyze_salt_trainables(in_features=768, out_features=768, r_top=32, tail_rank=8)\n",
    "\n",
    "    # or BERT feedforward layer (3072 x 768)\n",
    "    # salt_layer = analyze_salt_trainables(in_features=768, out_features=3072, r_top=32, tail_rank=8)\n"
   ]
  }
 ],
 "metadata": {
  "kernelspec": {
   "display_name": "Python 3",
   "language": "python",
   "name": "python3"
  },
  "language_info": {
   "codemirror_mode": {
    "name": "ipython",
    "version": 3
   },
   "file_extension": ".py",
   "mimetype": "text/x-python",
   "name": "python",
   "nbconvert_exporter": "python",
   "pygments_lexer": "ipython3",
   "version": "3.11.9"
  }
 },
 "nbformat": 4,
 "nbformat_minor": 5
}
